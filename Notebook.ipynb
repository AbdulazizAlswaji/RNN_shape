{
  "nbformat": 4,
  "nbformat_minor": 0,
  "metadata": {
    "colab": {
      "name": "Untitled6.ipynb",
      "provenance": []
    },
    "kernelspec": {
      "name": "python3",
      "display_name": "Python 3"
    }
  },
  "cells": [
    {
      "cell_type": "code",
      "metadata": {
        "id": "e0OREV3zlm8J"
      },
      "source": [
        "import tensorflow as tf\n",
        "from tensorflow.keras.layers import Input, SimpleRNN, Dense, Flatten\n",
        "from tensorflow.keras.models import Model\n",
        "from tensorflow.keras.optimizers import SGD, Adam\n",
        "\n",
        "import numpy as np\n",
        "import pandas as pd\n",
        "import matplotlib.pyplot as plt"
      ],
      "execution_count": 1,
      "outputs": []
    },
    {
      "cell_type": "markdown",
      "metadata": {
        "id": "FUUeZ9d9mQTq"
      },
      "source": [
        "N = Samples\n",
        "T = Sequence length\n",
        "D = input features\n",
        "M = Hidden units\n",
        "K = Output units"
      ]
    },
    {
      "cell_type": "code",
      "metadata": {
        "id": "7cNlOhUimHm-"
      },
      "source": [
        "N = 1\n",
        "T = 10\n",
        "D = 3\n",
        "K = 2\n",
        "X = np.random.randn(N, T, D)"
      ],
      "execution_count": 15,
      "outputs": []
    },
    {
      "cell_type": "code",
      "metadata": {
        "id": "XxHI0eQXm1Eu",
        "outputId": "a1a58edc-089d-4706-9210-4f53b00fd6e2",
        "colab": {
          "base_uri": "https://localhost:8080/"
        }
      },
      "source": [
        "X"
      ],
      "execution_count": 16,
      "outputs": [
        {
          "output_type": "execute_result",
          "data": {
            "text/plain": [
              "array([[[-0.14657322,  0.77770267,  0.11097633],\n",
              "        [ 0.33738772,  0.34694654, -1.14508662],\n",
              "        [-0.29450723, -2.33523641, -0.56961754],\n",
              "        [ 2.784122  ,  0.99996659, -0.29032831],\n",
              "        [ 1.00146632, -0.99544986, -1.04642712],\n",
              "        [ 0.06631387,  0.63955632,  0.13010682],\n",
              "        [ 0.42189619, -0.65657712, -0.1305882 ],\n",
              "        [-0.66876964, -0.79349386,  0.64552031],\n",
              "        [ 1.19178334, -0.08163426, -3.05395062],\n",
              "        [ 1.7097335 , -0.29768355, -0.86253699]]])"
            ]
          },
          "metadata": {
            "tags": []
          },
          "execution_count": 16
        }
      ]
    },
    {
      "cell_type": "code",
      "metadata": {
        "id": "soWyy_tFm31T"
      },
      "source": [
        "M = 5\n",
        "i = Input(shape=(T, D))\n",
        "x = SimpleRNN(M)(i)\n",
        "x = Dense(K)(x)\n",
        "\n",
        "model = Model(i, x)"
      ],
      "execution_count": 17,
      "outputs": []
    },
    {
      "cell_type": "code",
      "metadata": {
        "id": "5B7nAq13n7F5",
        "outputId": "e8a3ce04-2f1e-4aa3-b72c-1b7804d9a09b",
        "colab": {
          "base_uri": "https://localhost:8080/"
        }
      },
      "source": [
        "Yhat = model.predict(X)\n",
        "print(Yhat)"
      ],
      "execution_count": 18,
      "outputs": [
        {
          "output_type": "stream",
          "text": [
            "[[ 0.68342817 -0.4008093 ]]\n"
          ],
          "name": "stdout"
        }
      ]
    },
    {
      "cell_type": "code",
      "metadata": {
        "id": "6m8o9QY4oQ97",
        "outputId": "6ee6ebe8-fccc-408b-f087-5a2651beba3b",
        "colab": {
          "base_uri": "https://localhost:8080/"
        }
      },
      "source": [
        "model.summary()"
      ],
      "execution_count": 20,
      "outputs": [
        {
          "output_type": "stream",
          "text": [
            "Model: \"functional_5\"\n",
            "_________________________________________________________________\n",
            "Layer (type)                 Output Shape              Param #   \n",
            "=================================================================\n",
            "input_4 (InputLayer)         [(None, 10, 3)]           0         \n",
            "_________________________________________________________________\n",
            "simple_rnn_3 (SimpleRNN)     (None, 5)                 45        \n",
            "_________________________________________________________________\n",
            "dense_3 (Dense)              (None, 2)                 12        \n",
            "=================================================================\n",
            "Total params: 57\n",
            "Trainable params: 57\n",
            "Non-trainable params: 0\n",
            "_________________________________________________________________\n"
          ],
          "name": "stdout"
        }
      ]
    },
    {
      "cell_type": "code",
      "metadata": {
        "id": "TWVa4j6logos",
        "outputId": "2180d2fb-694c-4504-de39-049d704d2012",
        "colab": {
          "base_uri": "https://localhost:8080/"
        }
      },
      "source": [
        "model.layers[1].get_weights()"
      ],
      "execution_count": 21,
      "outputs": [
        {
          "output_type": "execute_result",
          "data": {
            "text/plain": [
              "[array([[-0.36911026, -0.67589474,  0.32163042, -0.63739514, -0.5018126 ],\n",
              "        [ 0.414028  , -0.10068291,  0.610146  , -0.31299323,  0.35350102],\n",
              "        [ 0.70536476,  0.4794503 ,  0.5405498 , -0.512164  , -0.2511325 ]],\n",
              "       dtype=float32),\n",
              " array([[ 0.22153366, -0.26038504, -0.17587325,  0.76630247,  0.5147538 ],\n",
              "        [ 0.19866471,  0.9186663 ,  0.22509685,  0.19155541,  0.17094602],\n",
              "        [-0.79938316,  0.03444219,  0.21258658, -0.08121508,  0.5549877 ],\n",
              "        [-0.06326691, -0.20446283,  0.83531   ,  0.37161732, -0.3440206 ],\n",
              "        [-0.518111  ,  0.21274543, -0.41888446,  0.48103207, -0.528625  ]],\n",
              "       dtype=float32),\n",
              " array([0., 0., 0., 0., 0.], dtype=float32)]"
            ]
          },
          "metadata": {
            "tags": []
          },
          "execution_count": 21
        }
      ]
    },
    {
      "cell_type": "code",
      "metadata": {
        "id": "fpXMZbxDpfEo",
        "outputId": "0f69f8a3-f2f0-4ac2-abc6-d181dd9db1bc",
        "colab": {
          "base_uri": "https://localhost:8080/"
        }
      },
      "source": [
        "a, b, c  = model.layers[1].get_weights()\n",
        "print(a.shape, b.shape, c.shape)"
      ],
      "execution_count": 28,
      "outputs": [
        {
          "output_type": "stream",
          "text": [
            "(3, 5) (5, 5) (5,)\n"
          ],
          "name": "stdout"
        }
      ]
    },
    {
      "cell_type": "code",
      "metadata": {
        "id": "OrdHNRvdpsOA"
      },
      "source": [
        "Wx , Wh, bh = model.layers[1].get_weights()\n",
        "Wo, bo = model.layers[2].get_weights()"
      ],
      "execution_count": 29,
      "outputs": []
    },
    {
      "cell_type": "code",
      "metadata": {
        "id": "_b1iXu1MqLnA",
        "outputId": "7949bd89-da32-446a-b82e-e8bc6841711d",
        "colab": {
          "base_uri": "https://localhost:8080/"
        }
      },
      "source": [
        "h_last = np.zeros(M)\n",
        "x = X[0]\n",
        "Yhats = []\n",
        "\n",
        "for t in range(T):\n",
        "  h = np.tanh(x[t].dot(Wx) + h_last.dot(Wh) + bh)\n",
        "  y = h.dot(Wo) + bo\n",
        "  Yhats.append(y)\n",
        "\n",
        "  h_last = h\n",
        "print(Yhats[-1])\n",
        "\n"
      ],
      "execution_count": 32,
      "outputs": [
        {
          "output_type": "stream",
          "text": [
            "[ 0.68342824 -0.40080939]\n"
          ],
          "name": "stdout"
        }
      ]
    },
    {
      "cell_type": "code",
      "metadata": {
        "id": "FechW_RQrxWr"
      },
      "source": [
        ""
      ],
      "execution_count": null,
      "outputs": []
    }
  ]
}